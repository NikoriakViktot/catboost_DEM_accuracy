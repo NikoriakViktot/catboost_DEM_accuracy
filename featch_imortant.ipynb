{
 "cells": [
  {
   "cell_type": "code",
   "id": "initial_id",
   "metadata": {
    "collapsed": true,
    "ExecuteTime": {
     "end_time": "2025-10-01T11:48:24.510374Z",
     "start_time": "2025-10-01T11:36:16.241333Z"
    }
   },
   "source": [
    "import pandas as pd\n",
    "import numpy as np\n",
    "import rasterio\n",
    "from pyproj import Transformer, CRS\n",
    "\n",
    "# --- 1. Завантажуємо початковий датасет з точками (він уже містить x, y, x_merc, y_merc та cls_nmad_fab)\n",
    "df = pd.read_parquet(\"data/NMAD_with_embeddings_cls.parquet\")\n",
    "\n",
    "# Яка CRS у ваших координат?\n",
    "# x,y зазвичай EPSG:4326 (довгота/широта), x_merc,y_merc — EPSG:3857\n",
    "POINTS_CRS = CRS.from_epsg(3857)   # ми беремо x_merc/y_merc\n",
    "px = df[\"x_merc\"].to_numpy()\n",
    "py = df[\"y_merc\"].to_numpy()\n",
    "\n",
    "def sample_raster_auto(path: str,\n",
    "                       x_in: np.ndarray,\n",
    "                       y_in: np.ndarray,\n",
    "                       src_crs: CRS) -> np.ndarray:\n",
    "    \"\"\"\n",
    "    Семплить растр по масиву точок в їхній CRS; якщо CRS відрізняється — трансформує до CRS растра.\n",
    "    Повертає np.ndarray з float, NoData -> np.nan.\n",
    "    \"\"\"\n",
    "    with rasterio.open(path) as src:\n",
    "        rast_crs = CRS.from_wkt(src.crs.to_wkt()) if src.crs else None\n",
    "        if rast_crs is None:\n",
    "            raise ValueError(f\"Raster {path} has no CRS\")\n",
    "\n",
    "        # координати, в CRS растра\n",
    "        if rast_crs != src_crs:\n",
    "            transformer = Transformer.from_crs(src_crs, rast_crs, always_xy=True)\n",
    "            xr, yr = transformer.transform(x_in, y_in)\n",
    "        else:\n",
    "            xr, yr = x_in, y_in\n",
    "\n",
    "        # вибірка\n",
    "        vals = np.full(shape=(x_in.shape[0],), fill_value=np.nan, dtype=\"float32\")\n",
    "        for i, (xx, yy) in enumerate(zip(xr, yr)):\n",
    "            v = next(src.sample([(xx, yy)]), [np.nan])[0]\n",
    "            # NoData → NaN\n",
    "            if src.nodata is not None and np.isclose(v, src.nodata):\n",
    "                vals[i] = np.nan\n",
    "            else:\n",
    "                vals[i] = v\n",
    "        return vals\n",
    "\n",
    "# --- 2. Опис, що саме додаємо (шляхи підстав свої)\n",
    "rasters = {\n",
    "    # aspect (в градусах 0..360)\n",
    "    \"aspect_deg\":  r\"D:\\paper_data\\DEM_DATA\\data\\DATA_UTM\\dem\\terrain_attributes\\fab_dem_utm32635_aspect.tif\",\n",
    "    # кривизна/шорсткість\n",
    "    \"curvature\":   r\"D:\\paper_data\\DEM_DATA\\data\\DATA_UTM\\dem\\terrain_attributes\\fab_dem_utm32635_curvature.tif\",\n",
    "    \"roughness\":   r\"D:\\paper_data\\DEM_DATA\\data\\DATA_UTM\\dem\\terrain_attributes\\fab_dem_utm32635_roughness.tif\",\n",
    "    # позиційні та індекси складності рельєфу\n",
    "    \"tpi\":         r\"D:\\paper_data\\DEM_DATA\\data\\DATA_UTM\\dem\\terrain_attributes\\fab_dem_utm32635_tpi.tif\",\n",
    "    \"tri\":         r\"D:\\paper_data\\DEM_DATA\\data\\DATA_UTM\\dem\\terrain_attributes\\fab_dem_utm32635_tri.tif\",\n",
    "    # гідро-похідні (за наявності)\n",
    "    \"d8_accum\":    r\"D:\\paper_data\\DEM_DATA\\data\\DATA_UTM\\dem\\flow_TWI\\fab_dem_utm32635_d8_accum.tif\",\n",
    "    # приклад BREACHED DEM (інколи згодиться як додаткова висота)\n",
    "    \"fab_breached\": r\"D:\\paper_data\\DEM_DATA\\data\\DATA_UTM\\dem\\breached_dems\\fab_dem_utm32635_breached.tif\",\n",
    "}\n",
    "\n",
    "# --- 3. Семплимо всі растрі та додаємо колонки\n",
    "for col, path in rasters.items():\n",
    "    print(f\"Sampling {col} from {path}\")\n",
    "    df[col] = sample_raster_auto(path, px, py, POINTS_CRS)\n",
    "\n",
    "# --- 4. Коректне кодування aspect: sin/cos і забудь про 0/360 розрив\n",
    "# деякі алгоритми пишуть flat = -1 — замінимо на NaN -> 0 після sin/cos\n",
    "a = df[\"aspect_deg\"].copy()\n",
    "a = a.where(a >= 0)  # -1 -> NaN\n",
    "a_rad = np.deg2rad(a)\n",
    "df[\"aspect_sin\"] = np.sin(a_rad).fillna(0.0)\n",
    "df[\"aspect_cos\"] = np.cos(a_rad).fillna(0.0)\n",
    "df.drop(columns=[\"aspect_deg\"], inplace=True)\n",
    "\n",
    "# (опційно) Лог-скейл для d8_accum, щоб «розтягнути» динаміку\n",
    "if \"d8_accum\" in df.columns:\n",
    "    df[\"d8_accum_log1p\"] = np.log1p(df[\"d8_accum\"])\n",
    "\n",
    "# --- 5. Збереження оновленого датасету\n",
    "out_path = \"data/NMAD_with_embeddings_cls_features.parquet\"\n",
    "df.to_parquet(out_path, index=False)\n",
    "print(\"Saved ->\", out_path)\n"
   ],
   "outputs": [
    {
     "name": "stdout",
     "output_type": "stream",
     "text": [
      "Sampling aspect_deg from D:\\paper_data\\DEM_DATA\\data\\DATA_UTM\\dem\\terrain_attributes\\fab_dem_utm32635_aspect.tif\n",
      "Sampling curvature from D:\\paper_data\\DEM_DATA\\data\\DATA_UTM\\dem\\terrain_attributes\\fab_dem_utm32635_curvature.tif\n",
      "Sampling roughness from D:\\paper_data\\DEM_DATA\\data\\DATA_UTM\\dem\\terrain_attributes\\fab_dem_utm32635_roughness.tif\n",
      "Sampling tpi from D:\\paper_data\\DEM_DATA\\data\\DATA_UTM\\dem\\terrain_attributes\\fab_dem_utm32635_tpi.tif\n",
      "Sampling tri from D:\\paper_data\\DEM_DATA\\data\\DATA_UTM\\dem\\terrain_attributes\\fab_dem_utm32635_tri.tif\n",
      "Sampling d8_accum from D:\\paper_data\\DEM_DATA\\data\\DATA_UTM\\dem\\flow_TWI\\fab_dem_utm32635_d8_accum.tif\n",
      "Sampling fab_breached from D:\\paper_data\\DEM_DATA\\data\\DATA_UTM\\dem\\breached_dems\\fab_dem_utm32635_breached.tif\n",
      "Saved -> data/NMAD_with_embeddings_cls_features.parquet\n"
     ]
    }
   ],
   "execution_count": 1
  }
 ],
 "metadata": {
  "kernelspec": {
   "display_name": "Python 3",
   "language": "python",
   "name": "python3"
  },
  "language_info": {
   "codemirror_mode": {
    "name": "ipython",
    "version": 2
   },
   "file_extension": ".py",
   "mimetype": "text/x-python",
   "name": "python",
   "nbconvert_exporter": "python",
   "pygments_lexer": "ipython2",
   "version": "2.7.6"
  }
 },
 "nbformat": 4,
 "nbformat_minor": 5
}
