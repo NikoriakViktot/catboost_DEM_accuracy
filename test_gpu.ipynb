{
 "cells": [
  {
   "cell_type": "code",
   "id": "initial_id",
   "metadata": {
    "collapsed": true,
    "ExecuteTime": {
     "end_time": "2025-10-01T06:04:17.520466Z",
     "start_time": "2025-10-01T06:04:16.824386Z"
    }
   },
   "source": [
    "from catboost import CatBoostClassifier, Pool\n",
    "import numpy as np\n",
    "\n",
    "# синтетичні дані\n",
    "X = np.random.rand(1000, 10)\n",
    "y = np.random.randint(0, 2, size=1000)\n",
    "\n",
    "train_pool = Pool(X, y)\n",
    "\n",
    "model = CatBoostClassifier(\n",
    "    iterations=10,\n",
    "    task_type=\"GPU\",   # ← ось ключ\n",
    "    devices='0',\n",
    "    verbose=1\n",
    ")\n",
    "print(\"Task type:\", model.get_param(\"task_type\"))\n",
    "print(\"Devices:\", model.get_param(\"devices\"))\n",
    "model.fit(train_pool)\n"
   ],
   "outputs": [
    {
     "name": "stdout",
     "output_type": "stream",
     "text": [
      "Task type: GPU\n",
      "Devices: 0\n",
      "Learning rate set to 0.5\n",
      "0:\tlearn: 0.6784167\ttotal: 2.98ms\tremaining: 26.9ms\n",
      "1:\tlearn: 0.6649122\ttotal: 5.56ms\tremaining: 22.2ms\n",
      "2:\tlearn: 0.6564407\ttotal: 8.07ms\tremaining: 18.8ms\n",
      "3:\tlearn: 0.6446097\ttotal: 10.6ms\tremaining: 15.9ms\n",
      "4:\tlearn: 0.6313485\ttotal: 13ms\tremaining: 13ms\n",
      "5:\tlearn: 0.6272734\ttotal: 15.3ms\tremaining: 10.2ms\n",
      "6:\tlearn: 0.6178953\ttotal: 17.7ms\tremaining: 7.6ms\n",
      "7:\tlearn: 0.6060219\ttotal: 21.2ms\tremaining: 5.29ms\n",
      "8:\tlearn: 0.5894821\ttotal: 24.4ms\tremaining: 2.72ms\n",
      "9:\tlearn: 0.5794361\ttotal: 27.6ms\tremaining: 0us\n"
     ]
    },
    {
     "data": {
      "text/plain": [
       "<catboost.core.CatBoostClassifier at 0x173b8d3eb10>"
      ]
     },
     "execution_count": 4,
     "metadata": {},
     "output_type": "execute_result"
    }
   ],
   "execution_count": 4
  },
  {
   "metadata": {
    "ExecuteTime": {
     "end_time": "2025-10-01T06:15:24.789403Z",
     "start_time": "2025-10-01T06:15:13.389762Z"
    }
   },
   "cell_type": "code",
   "source": [
    "from catboost import CatBoostClassifier, Pool\n",
    "import numpy as np, time\n",
    "import sys\n",
    "import GPUtil\n",
    "import time\n",
    "print(sys.executable)\n",
    "# більший набір\n",
    "X = np.random.rand(1_200_000, 50).astype('float32')\n",
    "y = np.random.randint(0, 2, size=1_200_000)\n",
    "\n",
    "\n",
    "train = Pool(X, y)\n",
    "\n",
    "model = CatBoostClassifier(\n",
    "    task_type=\"GPU\",\n",
    "    devices=\"0\",\n",
    "    iterations=500,\n",
    "    depth=8,\n",
    "    learning_rate=0.05,\n",
    "    border_count=128,\n",
    "    verbose=50\n",
    ")\n",
    "\n",
    "t0 = time.time()\n",
    "model.fit(train)\n",
    "print(\"Train time, s:\", round(time.time() - t0, 2))\n"
   ],
   "id": "fd3d4e1dde714a4e",
   "outputs": [
    {
     "name": "stdout",
     "output_type": "stream",
     "text": [
      "C:\\Users\\5302\\PycharmProjects\\catboost_DEM_accuracy\\.venv\\Scripts\\python.exe\n",
      "0:\tlearn: 0.6931308\ttotal: 23.4ms\tremaining: 11.7s\n",
      "50:\tlearn: 0.6923544\ttotal: 981ms\tremaining: 8.64s\n",
      "100:\tlearn: 0.6915701\ttotal: 1.94s\tremaining: 7.65s\n",
      "150:\tlearn: 0.6908341\ttotal: 2.88s\tremaining: 6.67s\n",
      "200:\tlearn: 0.6900833\ttotal: 3.83s\tremaining: 5.71s\n",
      "250:\tlearn: 0.6893340\ttotal: 4.83s\tremaining: 4.79s\n",
      "300:\tlearn: 0.6885788\ttotal: 5.79s\tremaining: 3.83s\n",
      "350:\tlearn: 0.6877936\ttotal: 6.74s\tremaining: 2.86s\n",
      "400:\tlearn: 0.6870198\ttotal: 7.68s\tremaining: 1.9s\n",
      "450:\tlearn: 0.6862422\ttotal: 8.64s\tremaining: 939ms\n",
      "499:\tlearn: 0.6854824\ttotal: 9.58s\tremaining: 0us\n",
      "Train time, s: 10.58\n"
     ]
    }
   ],
   "execution_count": 1
  }
 ],
 "metadata": {
  "kernelspec": {
   "display_name": "Python 3",
   "language": "python",
   "name": "python3"
  },
  "language_info": {
   "codemirror_mode": {
    "name": "ipython",
    "version": 2
   },
   "file_extension": ".py",
   "mimetype": "text/x-python",
   "name": "python",
   "nbconvert_exporter": "python",
   "pygments_lexer": "ipython2",
   "version": "2.7.6"
  }
 },
 "nbformat": 4,
 "nbformat_minor": 5
}
